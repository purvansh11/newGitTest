{
 "cells": [
  {
   "cell_type": "code",
   "execution_count": 11,
   "metadata": {},
   "outputs": [
    {
     "name": "stdout",
     "output_type": "stream",
     "text": [
      "Displaying valid data...\n",
      "18AABCT3518Q1ZV\n",
      "37AABCT3518Q1ZV\n",
      "10AABCT3518Q1ZB\n",
      "04AABCT3518Q1Z4\n",
      "22AABCT3518Q1Z6\n",
      "07AABCT3518Q1ZY\n",
      "30AABCT3518Q1Z9\n",
      "24AABCT3518Q1Z2\n",
      "06AABCT3518Q1Z0\n",
      "02AABCT3518Q1Z8\n",
      "01AABCT3518Q1ZA\n",
      "\n",
      "\n",
      "Displaying Invalid data...\n",
      "\n",
      "SIDDHARTH\n",
      "\n"
     ]
    }
   ],
   "source": [
    "import re\n",
    "regex=r\"^[0-9]{2}[A-Z]{5}[0-9]{4}[A-Z]{1}[1-9A-Z]{1}Z[0-9A-Z]{1}$\"\n",
    "trueData=[]\n",
    "falseData=[]\n",
    "\n",
    "with open(r'C:\\Users\\Purvansh\\Desktop\\gst.txt','r')  as f:\n",
    "    content = f.readlines()\n",
    "content = [x.strip() for x in content]\n",
    "\n",
    "for data in content:\n",
    "    gstno=data\n",
    "    result = re.search(regex, gstno)\n",
    "    if result:\n",
    "      trueData.append(data)\n",
    "    else:\n",
    "      falseData.append(data)\n",
    "print(\"Displaying valid data...\")\n",
    "for gstNum in trueData:\n",
    "    print(gstNum)\n",
    "print(\"\\n\")\n",
    "print(\"Displaying Invalid data...\\n\")\n",
    "for gstNum in falseData:\n",
    "    print(gstNum)    "
   ]
  },
  {
   "cell_type": "code",
   "execution_count": null,
   "metadata": {},
   "outputs": [],
   "source": []
  }
 ],
 "metadata": {
  "kernelspec": {
   "display_name": "Python 3",
   "language": "python",
   "name": "python3"
  },
  "language_info": {
   "codemirror_mode": {
    "name": "ipython",
    "version": 3
   },
   "file_extension": ".py",
   "mimetype": "text/x-python",
   "name": "python",
   "nbconvert_exporter": "python",
   "pygments_lexer": "ipython3",
   "version": "3.7.1"
  }
 },
 "nbformat": 4,
 "nbformat_minor": 2
}
